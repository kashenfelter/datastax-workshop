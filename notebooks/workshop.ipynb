{
 "cells": [
  {
   "cell_type": "markdown",
   "metadata": {},
   "source": [
    "# DSE Workshop\n",
    "\n",
    "Welcome to today's DataStax Enterprise workshop. In this quick session, we are going to cover scenarios for CQL, DSE Search, and DSE Analytics (batch).\n",
    "\n",
    "Let's dive right in.\n",
    "\n",
    "## Part 1 CQL\n",
    "\n",
    "### Exercise 1: Let's load some data (5 minutes)\n",
    "SSH into one of your nodes and run \"python populate_simple.py metadata_10k.json geodata.csv\", then enter cqlsh and explore the data a bit using \"describe table\" and \"select ... limit 5\" commands.\n",
    "\n",
    "Try to pull up the table definitions and the keyspace definitions. What are the important configuration settings in these definitions?\n",
    "\n",
    "### Exercise 2: Design CQL queries without Solr indexes (10 minutes)\n",
    "Use new code cells in this notebook to perform the following tasks (add a new cell with insert cell below, ensure that it's in code mode, and shift enter to run):\n",
    "\n",
    "Fetch a record by primary key using CQL\n",
    "\n",
    "Design a CQL query table schema for finding items by category\n",
    "\n",
    "Design a CQL query table schema for finding items by category, by sub-category.\n",
    "\n",
    "Design a CQL query table schema that allows you to find all books that are the superset of \"Noir\", and \"Zombies\"."
   ]
  },
  {
   "cell_type": "code",
   "execution_count": null,
   "metadata": {
    "collapsed": false
   },
   "outputs": [],
   "source": []
  },
  {
   "cell_type": "markdown",
   "metadata": {},
   "source": [
    "## Part 2 DSE Search\n",
    "\n",
    "### Exercise 3: Using CQL search for items with \"girls\" in the title. (5 minutes)\n",
    "\n",
    "Are there other ways to write this query? Give some exmple.\n",
    "(HTTP RESTful API, CQL solr_query JSON format, CQL solr_query non-JSON format)\n",
    "\n",
    "Here are some docs for hints:\n",
    "\n",
    "* [CQL solr query overview](https://docs.datastax.com/en/datastax_enterprise/4.8/datastax_enterprise/srch/srchCql.html)\n",
    "* [CQL solr_query JSON spec](https://docs.datastax.com/en/datastax_enterprise/4.8/datastax_enterprise/srch/srchJSON.html)\n",
    "* [Solr HTTP RESTful API](https://docs.datastax.com/en/datastax_enterprise/4.8/datastax_enterprise/srch/srchHttp.html)"
   ]
  },
  {
   "cell_type": "code",
   "execution_count": null,
   "metadata": {
    "collapsed": true
   },
   "outputs": [],
   "source": []
  },
  {
   "cell_type": "markdown",
   "metadata": {},
   "source": [
    "### Exercise 4: Using CQL search for ”girls\" in the title. What categories contain results?"
   ]
  },
  {
   "cell_type": "code",
   "execution_count": null,
   "metadata": {
    "collapsed": true
   },
   "outputs": [],
   "source": []
  },
  {
   "cell_type": "markdown",
   "metadata": {},
   "source": [
    "### Exercise 5: Using CQL search for ”girls\" in the title, filtered by category books."
   ]
  },
  {
   "cell_type": "code",
   "execution_count": null,
   "metadata": {
    "collapsed": true
   },
   "outputs": [],
   "source": []
  },
  {
   "cell_type": "markdown",
   "metadata": {},
   "source": [
    "### Exercise 6: Using CQL search for ”girls\" in the title, sort by asin. (10 minutes)"
   ]
  },
  {
   "cell_type": "code",
   "execution_count": null,
   "metadata": {
    "collapsed": true
   },
   "outputs": [],
   "source": []
  },
  {
   "cell_type": "markdown",
   "metadata": {},
   "source": [
    "## Part 3 Spark\n",
    "\n",
    "Real time insights can be obtained using spark or spark streaming. Today we will use spark sql to compute some batch jobs on your cassandra data.\n",
    "\n",
    "### Exercise 7: Count the number of cells in the table using spark sql\n",
    "Drop into ssh and run `dse spark` from here you can leverage spark sql as follows:\n",
    "\n",
    "    hc.sql(\"select count(*) from amazon.metadata\")\n",
    "\n",
    "Take a quick look at the spark UI as your jobs run."
   ]
  },
  {
   "cell_type": "code",
   "execution_count": null,
   "metadata": {
    "collapsed": true
   },
   "outputs": [],
   "source": []
  }
 ],
 "metadata": {
  "kernelspec": {
   "display_name": "CQL",
   "language": "CQL",
   "name": "cql"
  },
  "language_info": {
   "codemirror_mode": "sql",
   "file_extension": ".cql",
   "mimetype": "text/x-cassandra",
   "name": "CQL"
  }
 },
 "nbformat": 4,
 "nbformat_minor": 0
}
